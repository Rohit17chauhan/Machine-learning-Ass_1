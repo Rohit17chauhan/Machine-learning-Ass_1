{
 "cells": [
  {
   "cell_type": "markdown",
   "id": "a8d1b6a8",
   "metadata": {},
   "source": [
    "# Machine Learning-1 \n",
    "Assignment Questions"
   ]
  },
  {
   "cell_type": "markdown",
   "id": "a9410777",
   "metadata": {},
   "source": [
    "Q1-Explain the following with an example\n",
    "1-Artificial Intellegence\n",
    "2-Machine Learning\n",
    "3-Deep Learning"
   ]
  },
  {
   "cell_type": "code",
   "execution_count": 1,
   "id": "c49d0bda",
   "metadata": {},
   "outputs": [
    {
     "data": {
      "text/plain": [
       "'Artificial intellengence: It is also called as AI ,It is a smart application that can perform its own task \\nwithout any human interaction\\nExample:Selfdriving car,Robots,Alexa\\n\\nMachine learing:Machine learning is a sub set of artificial intelenges,it provides a tool to visualizempredictive model\\n,analysize , forcasting.\\nExample:Amazon,Netflix\\n\\nDeep learning:which mimic the human brain.\\nExample: Object detection,image recoganisation,chatbot'"
      ]
     },
     "execution_count": 1,
     "metadata": {},
     "output_type": "execute_result"
    }
   ],
   "source": [
    "Ans1=\"\"\"Artificial intellengence: It is also called as AI ,It is a smart application that can perform its own task \n",
    "without any human interaction\n",
    "Example:Selfdriving car,Robots,Alexa\n",
    "\n",
    "Machine learing:Machine learning is a sub set of artificial intelenges,it provides a tool to visualizempredictive model\n",
    ",analysize , forcasting.\n",
    "Example:Amazon,Netflix\n",
    "\n",
    "Deep learning:which mimic the human brain.\n",
    "Example: Object detection,image recoganisation,chatbot\"\"\"\n",
    "Ans1"
   ]
  },
  {
   "cell_type": "markdown",
   "id": "3063c79b",
   "metadata": {},
   "source": [
    "Q2- What is supervised learning? List some example of supervised learning"
   ]
  },
  {
   "cell_type": "code",
   "execution_count": 2,
   "id": "786057ae",
   "metadata": {},
   "outputs": [
    {
     "data": {
      "text/plain": [
       "'In Supervised machine learning we already known the input and output feature of the data set.\\nExample-Spam detection,pass And fail of a student depend on how much the student playing a game and how much time he study'"
      ]
     },
     "execution_count": 2,
     "metadata": {},
     "output_type": "execute_result"
    }
   ],
   "source": [
    "Ans2=\"\"\"In Supervised machine learning we already known the input and output feature of the data set.\n",
    "Example-Spam detection,pass And fail of a student depend on how much the student playing a game and how much time he study\"\"\"\n",
    "Ans2"
   ]
  },
  {
   "cell_type": "markdown",
   "id": "bcd0df0d",
   "metadata": {},
   "source": [
    "Q3- What is unsupervised learning?List some example of unsupervised learning"
   ]
  },
  {
   "cell_type": "code",
   "execution_count": 3,
   "id": "2c422efc",
   "metadata": {},
   "outputs": [
    {
     "data": {
      "text/plain": [
       "\"In supervised learning we don't known the output of tha data .In unsupervised learning we group the data into cluster.\\nExample:Fraud detection\""
      ]
     },
     "execution_count": 3,
     "metadata": {},
     "output_type": "execute_result"
    }
   ],
   "source": [
    "Ans3=\"\"\"In supervised learning we don't known the output of tha data .In unsupervised learning we group the data into cluster.\n",
    "Example:Fraud detection\"\"\"\n",
    "Ans3"
   ]
  },
  {
   "cell_type": "markdown",
   "id": "49d4fc5c",
   "metadata": {},
   "source": [
    "Q4- What is the difference between AI,ML,DL,DS?\n"
   ]
  },
  {
   "cell_type": "code",
   "execution_count": 4,
   "id": "94650558",
   "metadata": {},
   "outputs": [
    {
     "data": {
      "text/plain": [
       "'AI is the smart application that can perform a own task without human iteraction.\\n\\nML is the subset of AI. It provide statstool to analyze,visualize predictive model.\\n\\nDL:which mimic the human brain In DL we use multiple neural network.\\n\\nDS:In DS, AI,ML,DL all are included.'"
      ]
     },
     "execution_count": 4,
     "metadata": {},
     "output_type": "execute_result"
    }
   ],
   "source": [
    "Ans4=\"\"\"AI is the smart application that can perform a own task without human iteraction.\n",
    "\n",
    "ML is the subset of AI. It provide statstool to analyze,visualize predictive model.\n",
    "\n",
    "DL:which mimic the human brain In DL we use multiple neural network.\n",
    "\n",
    "DS:In DS, AI,ML,DL all are included.\"\"\"\n",
    "Ans4"
   ]
  },
  {
   "cell_type": "markdown",
   "id": "94563ca1",
   "metadata": {},
   "source": [
    "Q5-what is the main difference between supervised, unsupervised, and semisupervised  learnig"
   ]
  },
  {
   "cell_type": "code",
   "execution_count": 5,
   "id": "193cf88b",
   "metadata": {},
   "outputs": [
    {
     "data": {
      "text/plain": [
       "\"Supervised Learning: In supervised learning, the algorithm is trained on a labeled dataset, meaning that each input \\ndata point is associated with a corresponding target label. The goal is for the model to learn the mapping from input to output\\nby minimizing the error between its predictions and the actual labels. Supervised learning is used for tasks such as\\nclassification and regression.\\n\\nUnsupervised Learning: In unsupervised learning, the algorithm is given a dataset without explicit labels, and its goal is to \\nfind structure or patterns within the data. This can involve clustering similar data points together or dimensionality \\nreduction to represent the data in a lower-dimensional space. Unsupervised learning is often used for tasks such as \\nclustering, anomaly detection, and generative modeling.\\n\\nSemi-Supervised Learning: Semi-supervised learning lies between supervised and unsupervised learning. It uses a combination\\nof both labeled and unlabeled data for training. The labeled data helps guide the learning process, while the unlabeled data\\nis used to improve the model's understanding of the underlying structure of the data. Semi-supervised learning is useful when \\nobtaining labeled data is expensive or time-consuming compared to acquiring unlabeled data. It often yields better performance\\nthan purely supervised or unsupervised approaches when labeled data is limited.\""
      ]
     },
     "execution_count": 5,
     "metadata": {},
     "output_type": "execute_result"
    }
   ],
   "source": [
    "Ans5=\"\"\"Supervised Learning: In supervised learning, the algorithm is trained on a labeled dataset, meaning that each input \n",
    "data point is associated with a corresponding target label. The goal is for the model to learn the mapping from input to output\n",
    "by minimizing the error between its predictions and the actual labels. Supervised learning is used for tasks such as\n",
    "classification and regression.\n",
    "\n",
    "Unsupervised Learning: In unsupervised learning, the algorithm is given a dataset without explicit labels, and its goal is to \n",
    "find structure or patterns within the data. This can involve clustering similar data points together or dimensionality \n",
    "reduction to represent the data in a lower-dimensional space. Unsupervised learning is often used for tasks such as \n",
    "clustering, anomaly detection, and generative modeling.\n",
    "\n",
    "Semi-Supervised Learning: Semi-supervised learning lies between supervised and unsupervised learning. It uses a combination\n",
    "of both labeled and unlabeled data for training. The labeled data helps guide the learning process, while the unlabeled data\n",
    "is used to improve the model's understanding of the underlying structure of the data. Semi-supervised learning is useful when \n",
    "obtaining labeled data is expensive or time-consuming compared to acquiring unlabeled data. It often yields better performance\n",
    "than purely supervised or unsupervised approaches when labeled data is limited.\"\"\"\n",
    "Ans5"
   ]
  },
  {
   "cell_type": "markdown",
   "id": "3bb3e20b",
   "metadata": {},
   "source": [
    "Q6-what is train, test and validation split? Explain the importance of each term."
   ]
  },
  {
   "cell_type": "code",
   "execution_count": 6,
   "id": "5f4e2d46",
   "metadata": {},
   "outputs": [
    {
     "data": {
      "text/plain": [
       "\"Training Set:\\nThe training set is the portion of the dataset that is used to train the machine learning model. It consists of input data\\n(features) and corresponding output labels (targets or responses).\\nDuring training, the model learns the patterns and relationships in the data, adjusting its parameters to minimize the \\ndifference between the actual outputs and the predicted outputs.\\n\\nTest Set:\\nThe test set is a separate portion of the dataset that is used to evaluate the performance of the trained model. \\nIt contains data that the model has not seen during training.\\nAfter training, the model's performance is assessed by making predictions on the test set and comparing them to the actual \\nlabels. This helps to estimate how well the model will generalize to new, unseen data.\\n\\nValidation Set:\\nThe validation set is another portion of the dataset that is used to fine-tune the model's hyperparameters or to make decisions\\nabout the model's architecture.\\nIt serves as an intermediate step between the training and test phases. During training, the model's performance on the\\nvalidation set is monitored to avoid overfitting (when the model learns the training data too well and performs poorly on\\nunseen data).\\nBy adjusting hyperparameters based on the validation set performance, we aim to improve the model's generalization ability \\nwithout biasing it towards the test set.\\n\\nImportance:\\n\\nTraining Set: This is the foundation of the model. It's where the model learns the patterns and relationships in the data. \\nA comprehensive and representative training set leads to a model that can generalize well to new, unseen data.\\n\\nTest Set: This set provides an unbiased evaluation of the model's performance. It simulates how the model will perform on new \\ndata in the real world. It's important that the test set is kept separate from the training set to avoid biasing the evaluation.\\nValidation Set: This set helps in fine-tuning the model and preventing overfitting. By evaluating the model's performance on a \\nseparate dataset, we can make adjustments to hyperparameters or model architecture to improve generalization.\""
      ]
     },
     "execution_count": 6,
     "metadata": {},
     "output_type": "execute_result"
    }
   ],
   "source": [
    "Ans6=\"\"\"Training Set:\n",
    "The training set is the portion of the dataset that is used to train the machine learning model. It consists of input data\n",
    "(features) and corresponding output labels (targets or responses).\n",
    "During training, the model learns the patterns and relationships in the data, adjusting its parameters to minimize the \n",
    "difference between the actual outputs and the predicted outputs.\n",
    "\n",
    "Test Set:\n",
    "The test set is a separate portion of the dataset that is used to evaluate the performance of the trained model. \n",
    "It contains data that the model has not seen during training.\n",
    "After training, the model's performance is assessed by making predictions on the test set and comparing them to the actual \n",
    "labels. This helps to estimate how well the model will generalize to new, unseen data.\n",
    "\n",
    "Validation Set:\n",
    "The validation set is another portion of the dataset that is used to fine-tune the model's hyperparameters or to make decisions\n",
    "about the model's architecture.\n",
    "It serves as an intermediate step between the training and test phases. During training, the model's performance on the\n",
    "validation set is monitored to avoid overfitting (when the model learns the training data too well and performs poorly on\n",
    "unseen data).\n",
    "By adjusting hyperparameters based on the validation set performance, we aim to improve the model's generalization ability \n",
    "without biasing it towards the test set.\n",
    "\n",
    "Importance:\n",
    "\n",
    "Training Set: This is the foundation of the model. It's where the model learns the patterns and relationships in the data. \n",
    "A comprehensive and representative training set leads to a model that can generalize well to new, unseen data.\n",
    "\n",
    "Test Set: This set provides an unbiased evaluation of the model's performance. It simulates how the model will perform on new \n",
    "data in the real world. It's important that the test set is kept separate from the training set to avoid biasing the evaluation.\n",
    "Validation Set: This set helps in fine-tuning the model and preventing overfitting. By evaluating the model's performance on a \n",
    "separate dataset, we can make adjustments to hyperparameters or model architecture to improve generalization.\"\"\"\n",
    "Ans6"
   ]
  },
  {
   "cell_type": "markdown",
   "id": "99fb163e",
   "metadata": {},
   "source": [
    "Q7-how can unsupervised learning  be used in anomaly detection?"
   ]
  },
  {
   "cell_type": "code",
   "execution_count": 7,
   "id": "785222a4",
   "metadata": {},
   "outputs": [
    {
     "data": {
      "text/plain": [
       "\"\\nUnsupervised learning can be particularly useful in anomaly detection because it doesn't require labeled data, making it \\nsuitable for detecting outliers or anomalies in datasets where such instances are rare and often unlabeled.\""
      ]
     },
     "execution_count": 7,
     "metadata": {},
     "output_type": "execute_result"
    }
   ],
   "source": [
    "Ans7=\"\"\"\n",
    "Unsupervised learning can be particularly useful in anomaly detection because it doesn't require labeled data, making it \n",
    "suitable for detecting outliers or anomalies in datasets where such instances are rare and often unlabeled.\"\"\"\n",
    "Ans7"
   ]
  },
  {
   "cell_type": "code",
   "execution_count": null,
   "id": "85c7226d",
   "metadata": {},
   "outputs": [],
   "source": []
  },
  {
   "cell_type": "code",
   "execution_count": 8,
   "id": "77e9c35b",
   "metadata": {},
   "outputs": [
    {
     "data": {
      "text/plain": [
       "'Supervised Learning Algorithms:\\n\\nLinear Regression: Used for predicting continuous target variables based on one or more input features by fitting a linear \\nequation to the observed data.\\nLogistic Regression: Used for binary classification problems, where the target variable has two possible outcomes,\\nby modeling the probability of a certain outcome.\\nDecision Trees: Non-parametric supervised learning method used for classification and regression tasks by recursively \\npartitioning the data into subsets based on features.\\nRandom Forest: Ensemble learning method that constructs multiple decision trees during training and outputs the mode\\n(classification) or average (regression) of the predictions.\\n\\n\\nUnsupervised Learning Algorithms:\\n\\nK-Means Clustering: Partitioning method that divides a dataset into k distinct clusters based on feature similarity, aiming \\nto minimize the within-cluster variance.\\nDBSCAN (Density-Based Spatial Clustering of Applications with Noise): Clustering algorithm that groups together closely packed \\npoints based on a density criterion.\\nHierarchical Clustering: Method that builds a hierarchy of clusters by either agglomerative (bottom-up) or divisive (top-down) \\napproach.\\nPrincipal Component Analysis (PCA): Dimensionality reduction technique that transforms high-dimensional data into a\\nlower-dimensional space while preserving the most important information.'"
      ]
     },
     "execution_count": 8,
     "metadata": {},
     "output_type": "execute_result"
    }
   ],
   "source": [
    "Ans8=\"\"\"Supervised Learning Algorithms:\n",
    "\n",
    "Linear Regression: Used for predicting continuous target variables based on one or more input features by fitting a linear \n",
    "equation to the observed data.\n",
    "Logistic Regression: Used for binary classification problems, where the target variable has two possible outcomes,\n",
    "by modeling the probability of a certain outcome.\n",
    "Decision Trees: Non-parametric supervised learning method used for classification and regression tasks by recursively \n",
    "partitioning the data into subsets based on features.\n",
    "Random Forest: Ensemble learning method that constructs multiple decision trees during training and outputs the mode\n",
    "(classification) or average (regression) of the predictions.\n",
    "\n",
    "\n",
    "Unsupervised Learning Algorithms:\n",
    "\n",
    "K-Means Clustering: Partitioning method that divides a dataset into k distinct clusters based on feature similarity, aiming \n",
    "to minimize the within-cluster variance.\n",
    "DBSCAN (Density-Based Spatial Clustering of Applications with Noise): Clustering algorithm that groups together closely packed \n",
    "points based on a density criterion.\n",
    "Hierarchical Clustering: Method that builds a hierarchy of clusters by either agglomerative (bottom-up) or divisive (top-down) \n",
    "approach.\n",
    "Principal Component Analysis (PCA): Dimensionality reduction technique that transforms high-dimensional data into a\n",
    "lower-dimensional space while preserving the most important information.\"\"\"\n",
    "Ans8"
   ]
  },
  {
   "cell_type": "code",
   "execution_count": null,
   "id": "ede085e5",
   "metadata": {},
   "outputs": [],
   "source": []
  }
 ],
 "metadata": {
  "kernelspec": {
   "display_name": "Python 3 (ipykernel)",
   "language": "python",
   "name": "python3"
  },
  "language_info": {
   "codemirror_mode": {
    "name": "ipython",
    "version": 3
   },
   "file_extension": ".py",
   "mimetype": "text/x-python",
   "name": "python",
   "nbconvert_exporter": "python",
   "pygments_lexer": "ipython3",
   "version": "3.9.12"
  }
 },
 "nbformat": 4,
 "nbformat_minor": 5
}
